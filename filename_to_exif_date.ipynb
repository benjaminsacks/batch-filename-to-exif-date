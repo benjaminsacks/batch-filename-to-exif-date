{
 "cells": [
  {
   "cell_type": "code",
   "execution_count": 1,
   "metadata": {},
   "outputs": [],
   "source": [
    "import os\n",
    "import random\n",
    "import shutil\n",
    "import re\n",
    "from datetime import datetime\n",
    "import piexif\n",
    "import config"
   ]
  },
  {
   "cell_type": "code",
   "execution_count": 3,
   "metadata": {},
   "outputs": [
    {
     "data": {
      "text/plain": [
       "{'.bmp', '.db', '.jpg', '.mpg', '.tmp'}"
      ]
     },
     "execution_count": 3,
     "metadata": {},
     "output_type": "execute_result"
    }
   ],
   "source": [
    "file_list = []\n",
    "unique_file_types = set()\n",
    "\n",
    "for root, dirs, files in os.walk(config.INPUT_FILEPATH):\n",
    "    for file in files:\n",
    "        file_list.append(file)\n",
    "\n",
    "        _, file_extension = os.path.splitext(file)\n",
    "        unique_file_types.add(file_extension.lower())\n",
    "\n",
    "random_files = random.sample(file_list, 50)\n",
    "with open('sampled_files.txt', 'w') as file:\n",
    "    file.write('\\n'.join(random_files))\n",
    "\n",
    "unique_file_types"
   ]
  },
  {
   "cell_type": "code",
   "execution_count": null,
   "metadata": {},
   "outputs": [],
   "source": [
    "regex_pattern = r'(\\d\\d?)-(\\d\\d?)-(\\d{4})'\n",
    "long_filenames = []\n",
    "other_errors = []\n",
    "\n",
    "for root, dirs, files in os.walk(config.INPUT_FILEPATH):\n",
    "    # Create corresponding directories in the output directory\n",
    "    relative_path = os.path.relpath(root, config.INPUT_FILEPATH)\n",
    "    output_root = os.path.join(config.OUTPUT_FILEPATH, relative_path)\n",
    "    os.makedirs(output_root, exist_ok=True)\n",
    "\n",
    "    # Create the 'undated' subdirectory if it doesn't exist\n",
    "    undated_folder_path = os.path.join(output_root, 'undated')\n",
    "    os.makedirs(undated_folder_path, exist_ok=True)\n",
    "\n",
    "    # Iterate through all files in the current directory\n",
    "    for file in files:\n",
    "        file_path = os.path.join(root, file)\n",
    "\n",
    "        try:\n",
    "            # Handle long filenames\n",
    "            if len(file_path) < 250:\n",
    "                exif_dict = piexif.load(file_path)\n",
    "\n",
    "                # Check if the file name matches the regex pattern\n",
    "                match = re.search(regex_pattern, file)\n",
    "                if match:\n",
    "                    # Copy the file / Handle long filenames\n",
    "                    output_file_path = os.path.join(output_root, file)\n",
    "                    shutil.copy2(file_path, output_file_path)\n",
    "\n",
    "                    # Extract the content of the regex match\n",
    "                    date_month = int(match.group(1))\n",
    "                    date_day = int(match.group(2))\n",
    "                    date_year = int(match.group(3))\n",
    "\n",
    "                    new_date = datetime(date_year, date_month, date_day, 0, 0, 0).strftime(\"%Y:%m:%d %H:%M:%S\")\n",
    "                    exif_dict['Exif'][piexif.ExifIFD.DateTimeOriginal] = new_date\n",
    "                    exif_bytes = piexif.dump(exif_dict)\n",
    "                    piexif.insert(exif_bytes, output_file_path)\n",
    "                else:\n",
    "                    # Copy the file to the 'undated' subdirectory / Handle long filenames\n",
    "                    undated_file_path = os.path.join(undated_folder_path, file)\n",
    "                    shutil.copy2(file_path, undated_file_path)\n",
    "            else:\n",
    "                long_filenames.append(file_path)\n",
    "        \n",
    "        except Exception as e:\n",
    "            other_errors.append(file_path)\n",
    "\n",
    "with open('long_filenames.txt', 'w') as file:\n",
    "    file.write('\\n'.join(long_filenames))\n",
    "with open('other_errors.txt', 'w') as file:\n",
    "    file.write('\\n'.join(other_errors))\n"
   ]
  }
 ],
 "metadata": {
  "kernelspec": {
   "display_name": "Python 3",
   "language": "python",
   "name": "python3"
  },
  "language_info": {
   "codemirror_mode": {
    "name": "ipython",
    "version": 3
   },
   "file_extension": ".py",
   "mimetype": "text/x-python",
   "name": "python",
   "nbconvert_exporter": "python",
   "pygments_lexer": "ipython3",
   "version": "3.12.0"
  }
 },
 "nbformat": 4,
 "nbformat_minor": 2
}
