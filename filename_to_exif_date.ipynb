{
 "cells": [
  {
   "cell_type": "code",
   "execution_count": 1,
   "metadata": {},
   "outputs": [],
   "source": [
    "import os\n",
    "import random\n",
    "import shutil\n",
    "import re\n",
    "from datetime import datetime\n",
    "import piexif\n",
    "import config"
   ]
  },
  {
   "cell_type": "code",
   "execution_count": 2,
   "metadata": {},
   "outputs": [
    {
     "data": {
      "text/plain": [
       "{'.jpg'}"
      ]
     },
     "execution_count": 2,
     "metadata": {},
     "output_type": "execute_result"
    }
   ],
   "source": [
    "file_list = []\n",
    "unique_file_types = set()\n",
    "\n",
    "for root, dirs, files in os.walk(config.INPUT_FILEPATH):\n",
    "    for file in files:\n",
    "        file_list.append(file)\n",
    "\n",
    "        _, file_extension = os.path.splitext(file)\n",
    "        unique_file_types.add(file_extension.lower())\n",
    "\n",
    "random_files = random.sample(file_list, 50)\n",
    "with open('sampled_files.txt', 'w') as file:\n",
    "    file.write('\\n'.join(random_files))\n",
    "\n",
    "unique_file_types"
   ]
  },
  {
   "cell_type": "code",
   "execution_count": 3,
   "metadata": {},
   "outputs": [
    {
     "name": "stdout",
     "output_type": "stream",
     "text": [
      "E:\\family photos test\\Willa (Curtis) Morrison with her children (Richard) Dick & James 12-1955.jpg\n",
      "E:\\family photos modified\\.\\undated\\Willa (Curtis) Morrison with her children (Richard) Dick & James 12-1955.jpg\n",
      "E:\\family photos test\\Back Lf-Rt-Verble Morey, Edna Morey, Eva Morey, Louise Jones, Ruth Jones, Gilbert Morey, Edra Morey Tonsfeldt, Arney Tonsfeldt, Bill Morey Front row-Martin Tonsfeldt, Janis Morey, David Morey & Merrill Tonsfeldt 1950 something.jpg\n",
      "E:\\family photos modified\\.\\undated\\Back Lf-Rt-Verble Morey, Edna Morey, Eva Morey, Louise Jones, Ruth Jones, Gilbert Morey, Edra Morey Tonsfeldt, Arney Tonsfeldt, Bill Morey Front row-Martin Tonsfeldt, Janis Morey, David Morey & Merrill Tonsfeldt 1950 something.jpg\n"
     ]
    },
    {
     "ename": "FileNotFoundError",
     "evalue": "[WinError 3] The system cannot find the path specified",
     "output_type": "error",
     "traceback": [
      "\u001b[1;31m---------------------------------------------------------------------------\u001b[0m",
      "\u001b[1;31mFileNotFoundError\u001b[0m                         Traceback (most recent call last)",
      "Cell \u001b[1;32mIn[3], line 39\u001b[0m\n\u001b[0;32m     37\u001b[0m \u001b[38;5;28mprint\u001b[39m(file_path)\n\u001b[0;32m     38\u001b[0m \u001b[38;5;28mprint\u001b[39m(undated_file_path)\n\u001b[1;32m---> 39\u001b[0m \u001b[43mshutil\u001b[49m\u001b[38;5;241;43m.\u001b[39;49m\u001b[43mcopy2\u001b[49m\u001b[43m(\u001b[49m\u001b[43mfile_path\u001b[49m\u001b[43m,\u001b[49m\u001b[43m \u001b[49m\u001b[43mundated_file_path\u001b[49m\u001b[43m)\u001b[49m\n",
      "File \u001b[1;32mc:\\Python312\\Lib\\shutil.py:448\u001b[0m, in \u001b[0;36mcopy2\u001b[1;34m(src, dst, follow_symlinks)\u001b[0m\n\u001b[0;32m    446\u001b[0m     flags \u001b[38;5;241m|\u001b[39m\u001b[38;5;241m=\u001b[39m _winapi\u001b[38;5;241m.\u001b[39mCOPY_FILE_COPY_SYMLINK\n\u001b[0;32m    447\u001b[0m \u001b[38;5;28;01mtry\u001b[39;00m:\n\u001b[1;32m--> 448\u001b[0m     \u001b[43m_winapi\u001b[49m\u001b[38;5;241;43m.\u001b[39;49m\u001b[43mCopyFile2\u001b[49m\u001b[43m(\u001b[49m\u001b[43msrc_\u001b[49m\u001b[43m,\u001b[49m\u001b[43m \u001b[49m\u001b[43mdst_\u001b[49m\u001b[43m,\u001b[49m\u001b[43m \u001b[49m\u001b[43mflags\u001b[49m\u001b[43m)\u001b[49m\n\u001b[0;32m    449\u001b[0m     \u001b[38;5;28;01mreturn\u001b[39;00m dst\n\u001b[0;32m    450\u001b[0m \u001b[38;5;28;01mexcept\u001b[39;00m \u001b[38;5;167;01mOSError\u001b[39;00m \u001b[38;5;28;01mas\u001b[39;00m exc:\n",
      "\u001b[1;31mFileNotFoundError\u001b[0m: [WinError 3] The system cannot find the path specified"
     ]
    }
   ],
   "source": [
    "regex_pattern = r'(\\d\\d?)-(\\d\\d?)-(\\d{4})'\n",
    "\n",
    "for root, dirs, files in os.walk(config.INPUT_FILEPATH):\n",
    "        # Create corresponding directories in the output directory\n",
    "        relative_path = os.path.relpath(root, config.INPUT_FILEPATH)\n",
    "        output_root = os.path.join(config.OUTPUT_FILEPATH, relative_path)\n",
    "        os.makedirs(output_root, exist_ok=True)\n",
    "\n",
    "        # Create the 'undated' subdirectory if it doesn't exist\n",
    "        undated_folder_path = os.path.join(output_root, 'undated')\n",
    "        os.makedirs(undated_folder_path, exist_ok=True)\n",
    "\n",
    "        # Iterate through all files in the current directory\n",
    "        for file in files:\n",
    "            file_path = os.path.join(root, file)\n",
    "            exif_dict = piexif.load(file_path)\n",
    "\n",
    "            # Check if the file name matches the regex pattern\n",
    "            match = re.search(regex_pattern, file)\n",
    "            if match:\n",
    "                # Copy the file\n",
    "                output_file_path = os.path.join(output_root, file)\n",
    "                shutil.copy2(file_path, output_file_path)\n",
    "\n",
    "                # Extract the content of the regex match\n",
    "                date_month = int(match.group(1))\n",
    "                date_day = int(match.group(2))\n",
    "                date_year = int(match.group(3))\n",
    "\n",
    "                new_date = datetime(date_year, date_month, date_day, 0, 0, 0).strftime(\"%Y:%m:%d %H:%M:%S\")\n",
    "                exif_dict['Exif'][piexif.ExifIFD.DateTimeOriginal] = new_date\n",
    "                exif_bytes = piexif.dump(exif_dict)\n",
    "                piexif.insert(exif_bytes, output_file_path)\n",
    "            else:\n",
    "                # Copy the file to the 'undated' subdirectory\n",
    "                undated_file_path = os.path.join(undated_folder_path, file)\n",
    "                print(file_path)\n",
    "                print(undated_file_path)\n",
    "                shutil.copy2(file_path, undated_file_path)\n"
   ]
  }
 ],
 "metadata": {
  "kernelspec": {
   "display_name": "Python 3",
   "language": "python",
   "name": "python3"
  },
  "language_info": {
   "codemirror_mode": {
    "name": "ipython",
    "version": 3
   },
   "file_extension": ".py",
   "mimetype": "text/x-python",
   "name": "python",
   "nbconvert_exporter": "python",
   "pygments_lexer": "ipython3",
   "version": "3.12.0"
  }
 },
 "nbformat": 4,
 "nbformat_minor": 2
}
